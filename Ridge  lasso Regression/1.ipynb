{
 "cells": [
  {
   "cell_type": "markdown",
   "id": "e978cf82",
   "metadata": {},
   "source": [
    "Ridge Regression  is used to reduce overfitting in the linear regression model(L2 Regularization). it is basically an algorithm that helps to reduce overfitting"
   ]
  },
  {
   "cell_type": "markdown",
   "id": "79f01606",
   "metadata": {},
   "source": [
    "in the cost function of linear regression (1/2m)*summation (h(theta)**i-y**i)**2 we add Lambda*summation(slope**2) as cost function cant be zero as then model is likely overfitted"
   ]
  },
  {
   "cell_type": "markdown",
   "id": "8c4f35a2",
   "metadata": {},
   "source": [
    "The New Added Parameter is hyperparameter"
   ]
  },
  {
   "cell_type": "markdown",
   "id": "9a4ba231",
   "metadata": {},
   "source": [
    "the relationship between lamda and slope**2 :\n",
    "Lamda increases slope decreases but Can nevr be zero "
   ]
  },
  {
   "cell_type": "markdown",
   "id": "ea51863d",
   "metadata": {},
   "source": [
    "Lasso Regression is used in feature selection and also called(L1 Regularization)"
   ]
  },
  {
   "cell_type": "markdown",
   "id": "ca780fc1",
   "metadata": {},
   "source": [
    "the added hyperparameters are lamda*(summattion)(|slope|)"
   ]
  },
  {
   "cell_type": "markdown",
   "id": "4d1265ae",
   "metadata": {},
   "source": [
    "HERE THE DIFFERENCE IS THETA VALUE AFTER SOME TIME WILL BECOME ZERO WHICH WASNT POSSIBLE IN RIDGE"
   ]
  },
  {
   "cell_type": "markdown",
   "id": "62e38532",
   "metadata": {},
   "source": [
    "ELASTICNET IS THE combination of both Ridge and LAsso Regression . used to do both 1> reduce overfitting 2>feature selection"
   ]
  },
  {
   "cell_type": "markdown",
   "id": "684bdb3f",
   "metadata": {},
   "source": [
    "ADD BOTH EQUATIONS TO GET THIS COST FN WITH LAMBDA 1 AND LAMDA 2"
   ]
  }
 ],
 "metadata": {
  "kernelspec": {
   "display_name": "env",
   "language": "python",
   "name": "python3"
  },
  "language_info": {
   "name": "python",
   "version": "3.9.0"
  }
 },
 "nbformat": 4,
 "nbformat_minor": 5
}
