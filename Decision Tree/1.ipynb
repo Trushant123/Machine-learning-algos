{
 "cells": [
  {
   "cell_type": "code",
   "execution_count": null,
   "id": "7fb52383",
   "metadata": {},
   "outputs": [],
   "source": []
  }
 ],
 "metadata": {
  "kernelspec": {
   "display_name": "env",
   "language": "python",
   "name": "python3"
  },
  "language_info": {
   "name": "python",
   "version": "3.9.0"
  }
 },
 "nbformat": 4,
 "nbformat_minor": 5
}
